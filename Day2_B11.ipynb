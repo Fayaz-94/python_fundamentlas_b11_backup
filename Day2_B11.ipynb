{
 "cells": [
  {
   "cell_type": "code",
   "execution_count": null,
   "metadata": {},
   "outputs": [],
   "source": [
    "#1.understanding the concept of variables!! ------> commenting the lines!!"
   ]
  },
  {
   "cell_type": "code",
   "execution_count": 1,
   "metadata": {},
   "outputs": [
    {
     "data": {
      "text/plain": [
       "12"
      ]
     },
     "execution_count": 1,
     "metadata": {},
     "output_type": "execute_result"
    }
   ],
   "source": [
    "x=5 ------> variables ----\n",
    "y=7\n",
    "\n",
    "x+y"
   ]
  },
  {
   "cell_type": "code",
   "execution_count": null,
   "metadata": {},
   "outputs": [],
   "source": [
    "#3 rules of declaring!!\n",
    "\n",
    "1.#No gap in between writing a variable"
   ]
  },
  {
   "cell_type": "code",
   "execution_count": 2,
   "metadata": {},
   "outputs": [
    {
     "ename": "SyntaxError",
     "evalue": "invalid syntax (<ipython-input-2-59b4a11fc5bd>, line 1)",
     "output_type": "error",
     "traceback": [
      "\u001b[1;36m  File \u001b[1;32m\"<ipython-input-2-59b4a11fc5bd>\"\u001b[1;36m, line \u001b[1;32m1\u001b[0m\n\u001b[1;33m    full name = 'mallikarjun kranti'\u001b[0m\n\u001b[1;37m            ^\u001b[0m\n\u001b[1;31mSyntaxError\u001b[0m\u001b[1;31m:\u001b[0m invalid syntax\n"
     ]
    }
   ],
   "source": [
    "full_name = 'mallikarjun kranti'"
   ]
  },
  {
   "cell_type": "code",
   "execution_count": 3,
   "metadata": {},
   "outputs": [
    {
     "name": "stdout",
     "output_type": "stream",
     "text": [
      "mallikarjun kranti\n"
     ]
    }
   ],
   "source": [
    "full_name ='mallikarjun kranti'\n",
    "\n",
    "print(full_name)"
   ]
  },
  {
   "cell_type": "code",
   "execution_count": null,
   "metadata": {},
   "outputs": [],
   "source": [
    "2. variable name should not start with any numbers:\n",
    "    \n",
    "1name = 'something' -------> invalid ---declration\n",
    "\n",
    "n2ame1 = 'something'-------> valid declartion"
   ]
  },
  {
   "cell_type": "code",
   "execution_count": null,
   "metadata": {},
   "outputs": [],
   "source": [
    "3. no special char should be used in the begining of the var dec.\n",
    "\n",
    "$name = 'name' ------> invalid declartion"
   ]
  },
  {
   "cell_type": "code",
   "execution_count": null,
   "metadata": {},
   "outputs": [],
   "source": [
    "# introduction to the data types in python:\n",
    "\n",
    "1.Strings -----> str\n",
    "2.list ----> list\n",
    "3.tuple-----tuple\n",
    "4.Dictionary---->dict"
   ]
  },
  {
   "cell_type": "code",
   "execution_count": null,
   "metadata": {},
   "outputs": [],
   "source": [
    "#introduction to strings ----\n",
    "\n",
    "A string is nothing but a series of charcters.\n",
    "\n",
    "\n",
    "#how to declalre a string?\n",
    "\n",
    "3 ways --- \n",
    "\n",
    "1. 'string'\n",
    "2.\"string\"\n",
    "3.\"\"\"string\"\"\"\n",
    "\n",
    "\n",
    "#properties of a string.\n",
    "\n",
    "1. string is an immutable data type....\n",
    "\n",
    "def: no chance of altering/modifying once declared-----immutable data type\n",
    "    \n",
    "mutable data type --- which can be changed or modified once its gets assigned..\n"
   ]
  },
  {
   "cell_type": "code",
   "execution_count": 4,
   "metadata": {},
   "outputs": [
    {
     "name": "stdout",
     "output_type": "stream",
     "text": [
      "tony stark\n"
     ]
    }
   ],
   "source": [
    "x = 'tony stark'\n",
    "\n",
    "print(x)"
   ]
  },
  {
   "cell_type": "code",
   "execution_count": 5,
   "metadata": {},
   "outputs": [
    {
     "data": {
      "text/plain": [
       "str"
      ]
     },
     "execution_count": 5,
     "metadata": {},
     "output_type": "execute_result"
    }
   ],
   "source": [
    "#string methods:\n",
    "    \n",
    "type(x)  "
   ]
  },
  {
   "cell_type": "code",
   "execution_count": 6,
   "metadata": {},
   "outputs": [
    {
     "name": "stdout",
     "output_type": "stream",
     "text": [
      "lavnya bellamkonda\n"
     ]
    }
   ],
   "source": [
    "name = 'lavnya bellamkonda'\n",
    "\n",
    "print(name)"
   ]
  },
  {
   "cell_type": "code",
   "execution_count": 7,
   "metadata": {},
   "outputs": [
    {
     "name": "stdout",
     "output_type": "stream",
     "text": [
      "Lavnya Bellamkonda\n"
     ]
    }
   ],
   "source": [
    "#enhancment of the code:\n",
    "\n",
    "print(name.title())"
   ]
  },
  {
   "cell_type": "code",
   "execution_count": 8,
   "metadata": {},
   "outputs": [
    {
     "name": "stdout",
     "output_type": "stream",
     "text": [
      "LAVNYA BELLAMKONDA\n"
     ]
    }
   ],
   "source": [
    "#completely caps:\n",
    "\n",
    "print(name.upper())"
   ]
  },
  {
   "cell_type": "code",
   "execution_count": 9,
   "metadata": {},
   "outputs": [
    {
     "name": "stdout",
     "output_type": "stream",
     "text": [
      "lavnya bellamkonda\n"
     ]
    }
   ],
   "source": [
    "#small case\n",
    "\n",
    "print(name.lower())"
   ]
  },
  {
   "cell_type": "code",
   "execution_count": 11,
   "metadata": {},
   "outputs": [
    {
     "name": "stdout",
     "output_type": "stream",
     "text": [
      "ps srinivas\n",
      "Ps Srinivas\n"
     ]
    }
   ],
   "source": [
    "#intro to f strings ---->\n",
    "\n",
    "first_name ='ps'\n",
    "\n",
    "last_name ='srinivas'\n",
    "\n",
    "\n",
    "#fstrings -----> f\" {place holder -variable name}\"\n",
    "\n",
    "full_name = f\"{first_name} {last_name}\"\n",
    "\n",
    "print(full_name)\n",
    "\n",
    "print(full_name.title())"
   ]
  },
  {
   "cell_type": "code",
   "execution_count": 12,
   "metadata": {},
   "outputs": [
    {
     "data": {
      "text/plain": [
       "str"
      ]
     },
     "execution_count": 12,
     "metadata": {},
     "output_type": "execute_result"
    }
   ],
   "source": [
    "type(full_name)"
   ]
  },
  {
   "cell_type": "code",
   "execution_count": null,
   "metadata": {},
   "outputs": [],
   "source": []
  }
 ],
 "metadata": {
  "kernelspec": {
   "display_name": "Python 3",
   "language": "python",
   "name": "python3"
  },
  "language_info": {
   "codemirror_mode": {
    "name": "ipython",
    "version": 3
   },
   "file_extension": ".py",
   "mimetype": "text/x-python",
   "name": "python",
   "nbconvert_exporter": "python",
   "pygments_lexer": "ipython3",
   "version": "3.7.4"
  }
 },
 "nbformat": 4,
 "nbformat_minor": 2
}
